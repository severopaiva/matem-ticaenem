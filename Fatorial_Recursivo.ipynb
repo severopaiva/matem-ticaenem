{
  "nbformat": 4,
  "nbformat_minor": 0,
  "metadata": {
    "colab": {
      "name": "Fatorial Recursivo.ipynb",
      "provenance": [],
      "authorship_tag": "ABX9TyPUzwvR083VFFJqXSgqiecU",
      "include_colab_link": true
    },
    "kernelspec": {
      "name": "python3",
      "display_name": "Python 3"
    },
    "language_info": {
      "name": "python"
    }
  },
  "cells": [
    {
      "cell_type": "markdown",
      "metadata": {
        "id": "view-in-github",
        "colab_type": "text"
      },
      "source": [
        "<a href=\"https://colab.research.google.com/github/severopaiva/matem-ticaenem/blob/main/Fatorial_Recursivo.ipynb\" target=\"_parent\"><img src=\"https://colab.research.google.com/assets/colab-badge.svg\" alt=\"Open In Colab\"/></a>"
      ]
    },
    {
      "cell_type": "code",
      "execution_count": 7,
      "metadata": {
        "colab": {
          "base_uri": "https://localhost:8080/"
        },
        "id": "VN4qsX23VXP8",
        "outputId": "52ce359e-3eec-495a-a289-c784ebf29c3c"
      },
      "outputs": [
        {
          "output_type": "stream",
          "name": "stdout",
          "text": [
            "Fatorial Recursivo\n",
            "Digite o número inteiro maior ou igual a zero para cáculo do fatorial: -1\n",
            "Erro ! Vai ter que redigitar: \n",
            "Digite o número para cáculo do fatorial: 4\n",
            "O fatorial de  4  é:  24\n"
          ]
        }
      ],
      "source": [
        "# O fatorial de um número natural n, representado por n!\n",
        "# é o produto de todos os inteiros positivos menores ou iguais a n. \n",
        "\n",
        "def fatorial (num):\n",
        "    if num == 0:    #Caso Base indica quando parar Recursão\n",
        "      return (1)    #O Fatorial de 0 (zero) é um\n",
        "    else:\n",
        "      return (num * fatorial (num - 1) )\n",
        "\n",
        "print (\"Fatorial Recursivo\")\n",
        "n = int(input (\"Digite o número inteiro maior ou igual a zero para cáculo do fatorial: \"))\n",
        "while n < 0:\n",
        "  print (\"Erro ! Vai ter que redigitar: \")\n",
        "  n = int(input (\"Digite o número para cáculo do fatorial: \"))\n",
        "print (\"O fatorial de \", n, \" é: \", fatorial (n))"
      ]
    }
  ]
}