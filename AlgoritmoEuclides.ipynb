{
  "nbformat": 4,
  "nbformat_minor": 0,
  "metadata": {
    "colab": {
      "name": "AlgoritmoEuclides.ipynb",
      "provenance": [],
      "authorship_tag": "ABX9TyPWYTgZ0dLdozNQu4LAGinZ",
      "include_colab_link": true
    },
    "kernelspec": {
      "name": "python3",
      "display_name": "Python 3"
    },
    "language_info": {
      "name": "python"
    }
  },
  "cells": [
    {
      "cell_type": "markdown",
      "metadata": {
        "id": "view-in-github",
        "colab_type": "text"
      },
      "source": [
        "<a href=\"https://colab.research.google.com/github/severopaiva/matem-ticaenem/blob/main/AlgoritmoEuclides.ipynb\" target=\"_parent\"><img src=\"https://colab.research.google.com/assets/colab-badge.svg\" alt=\"Open In Colab\"/></a>"
      ]
    },
    {
      "cell_type": "code",
      "execution_count": 2,
      "metadata": {
        "colab": {
          "base_uri": "https://localhost:8080/"
        },
        "id": "TaXHEvKZ0M5k",
        "outputId": "14bafd7c-79a8-4b2b-ece8-4c498d6bf458"
      },
      "outputs": [
        {
          "output_type": "stream",
          "name": "stdout",
          "text": [
            "Determinar o MDC entre dois inteiros pelo algoritmo de Euclides\n",
            "\n",
            "Digite o número menor: 4\n",
            "Digite o número maior: 3\n",
            "Digite o número menor: 5\n",
            "Digite o número maior: 8\n",
            "\n",
            "O MDC entre  5  e  8  é  1\n"
          ]
        }
      ],
      "source": [
        "#Em matemática, o algoritmo de Euclides[a] é um método simples e eficiente de encontrar o máximo divisor comum\n",
        "#entre dois números inteiros diferentes de zero. É um dos algoritmos mais antigos, conhecido desde que surgiu \n",
        "#nos Livros VII e X da obra Elementos de Euclides[1] por volta de 300 a.C. \n",
        "#O algoritmo não exige qualquer fatoração. Fonte: Wikipedia\n",
        "\n",
        "print (\"Determinar o MDC entre dois inteiros pelo algoritmo de Euclides\\n\")\n",
        "n1 = 1\n",
        "n2 = 0\n",
        "while n1 > n2:\n",
        "  n1 = int(input(\"Digite o número menor: \"))\n",
        "  n2 = int(input(\"Digite o número maior: \"))\n",
        "r = n2 % n1\n",
        "n1bkp = n1\n",
        "n2bkp = n2\n",
        "while r != 0:\n",
        "      n2 = n1\n",
        "      n1 = r\n",
        "      r = n2 % n1\n",
        "print (\"\\nO MDC entre \", n1bkp, \" e \",n2bkp,\" é \",n1)"
      ]
    }
  ]
}