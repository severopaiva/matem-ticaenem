{
  "nbformat": 4,
  "nbformat_minor": 0,
  "metadata": {
    "colab": {
      "name": "Fibonacci.ipynb",
      "provenance": [],
      "authorship_tag": "ABX9TyPIRzinCR+DR08/SqIs1Ki5",
      "include_colab_link": true
    },
    "kernelspec": {
      "name": "python3",
      "display_name": "Python 3"
    },
    "language_info": {
      "name": "python"
    }
  },
  "cells": [
    {
      "cell_type": "markdown",
      "metadata": {
        "id": "view-in-github",
        "colab_type": "text"
      },
      "source": [
        "<a href=\"https://colab.research.google.com/github/severopaiva/matem-ticaenem/blob/main/Fibonacci.ipynb\" target=\"_parent\"><img src=\"https://colab.research.google.com/assets/colab-badge.svg\" alt=\"Open In Colab\"/></a>"
      ]
    },
    {
      "cell_type": "code",
      "execution_count": 4,
      "metadata": {
        "colab": {
          "base_uri": "https://localhost:8080/"
        },
        "id": "H2bauVXeuNTT",
        "outputId": "c275bd8b-7546-41ad-bbef-354a595769a5"
      },
      "outputs": [
        {
          "output_type": "stream",
          "name": "stdout",
          "text": [
            "Quantos termos deseja gerar: 15\n",
            "Os  15  primeiros termos da Sequência de Fibonacci são: \n",
            "0\n",
            "1\n",
            "1\n",
            "2\n",
            "3\n",
            "5\n",
            "8\n",
            "13\n",
            "21\n",
            "34\n",
            "55\n",
            "89\n",
            "144\n",
            "233\n",
            "377\n"
          ]
        }
      ],
      "source": [
        "#Na matemática, a sequência de Fibonacci é  uma   sequência  de  números\n",
        "#inteiros, começando normalmente por 0, na  qual  cada termo subsequente\n",
        "#corresponde à soma dos dois anteriores.\n",
        "#A sequência recebeu o nome do matemático italiano Leonardo de Pisa,mais\n",
        "#mais conhecido por Fibonacci, que descreveu, em 1202, o crescimento  de\n",
        "#uma população de coelhos em função dos meses.\n",
        "#Sequência: 0,1, 1, 2, 3, 5, 8, 13, 21, 34, 55, 89, 144, 233, 377, 610, ... \n",
        "#Fonte: Wikipedia\n",
        "\n",
        "# Função Números de Fibonacci\n",
        "def fib(x):\n",
        "    if x == 1:\n",
        "        return 0\n",
        "    elif x == 2:\n",
        "       return 1\n",
        "    else:\n",
        "       return fib(x-1) + fib(x-2)\n",
        "\n",
        "# Programa Principal\n",
        "i = 1\n",
        "n= int(input(\"Quantos termos deseja gerar: \"))\n",
        "while n <= 0:\n",
        "    print (\"Erro ! Redigite !\")\n",
        "    n= int(input(\"Quantos termos deseja gerar: \"))\n",
        "print (\"Os\",n,\" primeiros termos da Sequência de Fibonacci são: \")\n",
        "while i <=n:\n",
        "    print (fib(i))\n",
        "    i=i+1"
      ]
    }
  ]
}